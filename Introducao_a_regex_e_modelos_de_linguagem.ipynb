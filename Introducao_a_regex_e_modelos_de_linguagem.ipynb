{
  "nbformat": 4,
  "nbformat_minor": 0,
  "metadata": {
    "colab": {
      "name": "Introducao_a_regex_e_modelos_de_linguagem.ipynb",
      "provenance": [],
      "collapsed_sections": [],
      "authorship_tag": "ABX9TyO11SXRQR01Dq3oY8rez8vc",
      "include_colab_link": true
    },
    "kernelspec": {
      "name": "python3",
      "display_name": "Python 3"
    }
  },
  "cells": [
    {
      "cell_type": "markdown",
      "metadata": {
        "id": "view-in-github",
        "colab_type": "text"
      },
      "source": [
        "<a href=\"https://colab.research.google.com/github/MatheusSteinDeAguiar/Regex_MLE_Laplace/blob/main/Introducao_a_regex_e_modelos_de_linguagem.ipynb\" target=\"_parent\"><img src=\"https://colab.research.google.com/assets/colab-badge.svg\" alt=\"Open In Colab\"/></a>"
      ]
    },
    {
      "cell_type": "markdown",
      "metadata": {
        "id": "ujLRvfEOGu3d"
      },
      "source": [
        "#Inicializando"
      ]
    },
    {
      "cell_type": "code",
      "metadata": {
        "colab": {
          "base_uri": "https://localhost:8080/"
        },
        "id": "8AtYlQ6sIzug",
        "outputId": "d81925a1-5950-436f-9d81-656bf56b2766"
      },
      "source": [
        "!pip install nltk==3.5"
      ],
      "execution_count": 1,
      "outputs": [
        {
          "output_type": "stream",
          "text": [
            "Requirement already satisfied: nltk==3.5 in /usr/local/lib/python3.6/dist-packages (3.5)\n",
            "Requirement already satisfied: click in /usr/local/lib/python3.6/dist-packages (from nltk==3.5) (7.1.2)\n",
            "Requirement already satisfied: regex in /usr/local/lib/python3.6/dist-packages (from nltk==3.5) (2019.12.20)\n",
            "Requirement already satisfied: tqdm in /usr/local/lib/python3.6/dist-packages (from nltk==3.5) (4.41.1)\n",
            "Requirement already satisfied: joblib in /usr/local/lib/python3.6/dist-packages (from nltk==3.5) (1.0.0)\n"
          ],
          "name": "stdout"
        }
      ]
    },
    {
      "cell_type": "code",
      "metadata": {
        "id": "Ah0K-2j4G5DV"
      },
      "source": [
        "import pandas as pd\r\n",
        "import re"
      ],
      "execution_count": 2,
      "outputs": []
    },
    {
      "cell_type": "markdown",
      "metadata": {
        "id": "7_4a-B5SGzi0"
      },
      "source": [
        "###Carregando os dados"
      ]
    },
    {
      "cell_type": "code",
      "metadata": {
        "id": "nFsVKNYt9guU"
      },
      "source": [
        "dados_pt = pd.read_csv(\"stackoverflow_portugues.csv\")\r\n",
        "dados_ing = pd.read_csv(\"stackoverflow_ingles.csv\")\r\n",
        "dados_sp = pd.read_csv(\"stackoverflow_espanhol.csv\")"
      ],
      "execution_count": 3,
      "outputs": []
    },
    {
      "cell_type": "code",
      "metadata": {
        "colab": {
          "base_uri": "https://localhost:8080/",
          "height": 289
        },
        "id": "xtRAqfLbHO7b",
        "outputId": "30a108f5-4d92-42f6-8eef-c396d88283ca"
      },
      "source": [
        "dados_pt.head()"
      ],
      "execution_count": 4,
      "outputs": [
        {
          "output_type": "execute_result",
          "data": {
            "text/html": [
              "<div>\n",
              "<style scoped>\n",
              "    .dataframe tbody tr th:only-of-type {\n",
              "        vertical-align: middle;\n",
              "    }\n",
              "\n",
              "    .dataframe tbody tr th {\n",
              "        vertical-align: top;\n",
              "    }\n",
              "\n",
              "    .dataframe thead th {\n",
              "        text-align: right;\n",
              "    }\n",
              "</style>\n",
              "<table border=\"1\" class=\"dataframe\">\n",
              "  <thead>\n",
              "    <tr style=\"text-align: right;\">\n",
              "      <th></th>\n",
              "      <th>Id</th>\n",
              "      <th>Título</th>\n",
              "      <th>Questão</th>\n",
              "      <th>Tags</th>\n",
              "      <th>Pontuação</th>\n",
              "      <th>Visualizações</th>\n",
              "    </tr>\n",
              "  </thead>\n",
              "  <tbody>\n",
              "    <tr>\n",
              "      <th>0</th>\n",
              "      <td>2402</td>\n",
              "      <td>Como fazer hash de senhas de forma segura?</td>\n",
              "      <td>&lt;p&gt;Se eu fizer o &lt;em&gt;&lt;a href=\"http://pt.wikipe...</td>\n",
              "      <td>&lt;hash&gt;&lt;segurança&gt;&lt;senhas&gt;&lt;criptografia&gt;</td>\n",
              "      <td>350</td>\n",
              "      <td>22367</td>\n",
              "    </tr>\n",
              "    <tr>\n",
              "      <th>1</th>\n",
              "      <td>6441</td>\n",
              "      <td>Qual é a diferença entre INNER JOIN e OUTER JOIN?</td>\n",
              "      <td>&lt;p&gt;Qual é a diferença entre &lt;code&gt;INNER JOIN&lt;/...</td>\n",
              "      <td>&lt;sql&gt;&lt;join&gt;</td>\n",
              "      <td>276</td>\n",
              "      <td>176953</td>\n",
              "    </tr>\n",
              "    <tr>\n",
              "      <th>2</th>\n",
              "      <td>579</td>\n",
              "      <td>Por que não devemos usar funções do tipo mysql_*?</td>\n",
              "      <td>&lt;p&gt;Uma dúvida muito comum é por que devemos pa...</td>\n",
              "      <td>&lt;php&gt;&lt;mysql&gt;</td>\n",
              "      <td>226</td>\n",
              "      <td>9761</td>\n",
              "    </tr>\n",
              "    <tr>\n",
              "      <th>3</th>\n",
              "      <td>2539</td>\n",
              "      <td>As mensagens de erro devem se desculpar?</td>\n",
              "      <td>&lt;p&gt;É comum encontrar uma mensagem de erro que ...</td>\n",
              "      <td>&lt;aplicação-web&gt;&lt;gui&gt;&lt;console&gt;&lt;ux&gt;</td>\n",
              "      <td>214</td>\n",
              "      <td>5075</td>\n",
              "    </tr>\n",
              "    <tr>\n",
              "      <th>4</th>\n",
              "      <td>17501</td>\n",
              "      <td>Qual é a diferença de API, biblioteca e Framew...</td>\n",
              "      <td>&lt;p&gt;Me parecem termos muito próximos e eventual...</td>\n",
              "      <td>&lt;api&gt;&lt;framework&gt;&lt;terminologia&gt;&lt;biblioteca&gt;</td>\n",
              "      <td>193</td>\n",
              "      <td>54191</td>\n",
              "    </tr>\n",
              "  </tbody>\n",
              "</table>\n",
              "</div>"
            ],
            "text/plain": [
              "      Id  ... Visualizações\n",
              "0   2402  ...         22367\n",
              "1   6441  ...        176953\n",
              "2    579  ...          9761\n",
              "3   2539  ...          5075\n",
              "4  17501  ...         54191\n",
              "\n",
              "[5 rows x 6 columns]"
            ]
          },
          "metadata": {
            "tags": []
          },
          "execution_count": 4
        }
      ]
    },
    {
      "cell_type": "code",
      "metadata": {
        "colab": {
          "base_uri": "https://localhost:8080/"
        },
        "id": "A5VLqJvl7Kwi",
        "outputId": "478da044-043f-43af-abce-a7da11897289"
      },
      "source": [
        "questao_1_pt = dados_pt.Questão[0]\r\n",
        "questao_1_ing = dados_ing.Questão[0]\r\n",
        "questao_1_sp = dados_sp.Questão[0]\r\n",
        "\r\n",
        "print(questao_1_pt)"
      ],
      "execution_count": 5,
      "outputs": [
        {
          "output_type": "stream",
          "text": [
            "<p>Se eu fizer o <em><a href=\"http://pt.wikipedia.org/wiki/Fun%C3%A7%C3%A3o_de_embaralhamento_criptogr%C3%A1fico\" rel=\"noreferrer\">hash</a></em> de senhas antes de armazená-las em meu banco de dados é suficiente para evitar que elas sejam recuperadas por alguém?</p>\n",
            "\n",
            "<p>Estou falando apenas da recuperação diretamente do banco de dados e não qualquer outro tipo de ataque, como <a href=\"http://pt.wikipedia.org/wiki/Ataque_de_for%C3%A7a_bruta\" rel=\"noreferrer\">força bruta</a> na página de login da aplicação, <em><a href=\"http://pt.wikipedia.org/wiki/Keylogger\" rel=\"noreferrer\">keylogger</a></em> no cliente e <a href=\"http://pt.wikipedia.org/wiki/Criptoan%C3%A1lise_de_mangueira_de_borracha\" rel=\"noreferrer\">criptoanálise <em>rubberhose</em></a>. Qualquer forma de <em>hash</em> não vai impedir esses ataques.</p>\n",
            "\n",
            "<p>Tenho preocupação em dificultar ou até impossibilitar a obtenção das senhas originais caso o banco de dados seja comprometido. Como dar maior garantia de segurança neste aspecto?</p>\n",
            "\n",
            "<p>Quais preocupações adicionais evitariam o acesso às senhas? Existem formas melhores de fazer esse <em>hash</em>?</p>\n",
            "\n"
          ],
          "name": "stdout"
        }
      ]
    },
    {
      "cell_type": "markdown",
      "metadata": {
        "id": "QVyzge6f62v_"
      },
      "source": [
        "#Regular Expressions"
      ]
    },
    {
      "cell_type": "code",
      "metadata": {
        "id": "ET93mvrRHRB7",
        "colab": {
          "base_uri": "https://localhost:8080/"
        },
        "outputId": "14597e79-aee9-410e-c10a-eb99f371002a"
      },
      "source": [
        "#Regex para remover todas as tags html\r\n",
        "re.findall(r\"<.*?>\", questao_1_pt)"
      ],
      "execution_count": 6,
      "outputs": [
        {
          "output_type": "execute_result",
          "data": {
            "text/plain": [
              "['<p>',\n",
              " '<em>',\n",
              " '<a href=\"http://pt.wikipedia.org/wiki/Fun%C3%A7%C3%A3o_de_embaralhamento_criptogr%C3%A1fico\" rel=\"noreferrer\">',\n",
              " '</a>',\n",
              " '</em>',\n",
              " '</p>',\n",
              " '<p>',\n",
              " '<a href=\"http://pt.wikipedia.org/wiki/Ataque_de_for%C3%A7a_bruta\" rel=\"noreferrer\">',\n",
              " '</a>',\n",
              " '<em>',\n",
              " '<a href=\"http://pt.wikipedia.org/wiki/Keylogger\" rel=\"noreferrer\">',\n",
              " '</a>',\n",
              " '</em>',\n",
              " '<a href=\"http://pt.wikipedia.org/wiki/Criptoan%C3%A1lise_de_mangueira_de_borracha\" rel=\"noreferrer\">',\n",
              " '<em>',\n",
              " '</em>',\n",
              " '</a>',\n",
              " '<em>',\n",
              " '</em>',\n",
              " '</p>',\n",
              " '<p>',\n",
              " '</p>',\n",
              " '<p>',\n",
              " '<em>',\n",
              " '</em>',\n",
              " '</p>']"
            ]
          },
          "metadata": {
            "tags": []
          },
          "execution_count": 6
        }
      ]
    },
    {
      "cell_type": "code",
      "metadata": {
        "colab": {
          "base_uri": "https://localhost:8080/"
        },
        "id": "8fpBI1Nj78vG",
        "outputId": "ae6a2093-abd3-41a8-d83a-620f107d739a"
      },
      "source": [
        "texto_teste = re.sub(r\"<.*?>\", \"\", questao_1_pt)\r\n",
        "print(texto_teste)"
      ],
      "execution_count": 7,
      "outputs": [
        {
          "output_type": "stream",
          "text": [
            "Se eu fizer o hash de senhas antes de armazená-las em meu banco de dados é suficiente para evitar que elas sejam recuperadas por alguém?\n",
            "\n",
            "Estou falando apenas da recuperação diretamente do banco de dados e não qualquer outro tipo de ataque, como força bruta na página de login da aplicação, keylogger no cliente e criptoanálise rubberhose. Qualquer forma de hash não vai impedir esses ataques.\n",
            "\n",
            "Tenho preocupação em dificultar ou até impossibilitar a obtenção das senhas originais caso o banco de dados seja comprometido. Como dar maior garantia de segurança neste aspecto?\n",
            "\n",
            "Quais preocupações adicionais evitariam o acesso às senhas? Existem formas melhores de fazer esse hash?\n",
            "\n"
          ],
          "name": "stdout"
        }
      ]
    },
    {
      "cell_type": "code",
      "metadata": {
        "colab": {
          "base_uri": "https://localhost:8080/"
        },
        "id": "AeZ1y8Wo9Abp",
        "outputId": "211c7fbb-550e-4c14-9105-abd8cc47e19f"
      },
      "source": [
        "# Se compilarmos a regex antes e usar ela para aplicar, podemos diminuir muito o tempo de execução.\r\n",
        "regex = re.compile(r\"<.*?>\")\r\n",
        "texto_teste = regex.sub(\"\", questao_1_pt)\r\n",
        "print(texto_teste)"
      ],
      "execution_count": 8,
      "outputs": [
        {
          "output_type": "stream",
          "text": [
            "Se eu fizer o hash de senhas antes de armazená-las em meu banco de dados é suficiente para evitar que elas sejam recuperadas por alguém?\n",
            "\n",
            "Estou falando apenas da recuperação diretamente do banco de dados e não qualquer outro tipo de ataque, como força bruta na página de login da aplicação, keylogger no cliente e criptoanálise rubberhose. Qualquer forma de hash não vai impedir esses ataques.\n",
            "\n",
            "Tenho preocupação em dificultar ou até impossibilitar a obtenção das senhas originais caso o banco de dados seja comprometido. Como dar maior garantia de segurança neste aspecto?\n",
            "\n",
            "Quais preocupações adicionais evitariam o acesso às senhas? Existem formas melhores de fazer esse hash?\n",
            "\n"
          ],
          "name": "stdout"
        }
      ]
    },
    {
      "cell_type": "code",
      "metadata": {
        "id": "7xHS9D6D-lPI"
      },
      "source": [
        "# Definindo uma função capaz de substiuir o conteúdo da regex por espaço vazio seja 1 ou mais textos.\r\n",
        "def remover(regex, textos):\r\n",
        "  if type(textos) == str:\r\n",
        "    return regex.sub(\"\", textos)\r\n",
        "  else:\r\n",
        "    return [regex.sub(\"\", texto) for texto in textos]"
      ],
      "execution_count": 9,
      "outputs": []
    },
    {
      "cell_type": "code",
      "metadata": {
        "id": "9EbWJjWMSeM4"
      },
      "source": [
        "# A regex escrita usa os sinais <> porque as tags estão sempre dentro deles, a combinação de .* porque o ponto é \r\n",
        "# qualquer caractere e o * é quantas vezes for necessário, e o ? para que pare quando encontrar o \">\", se não \r\n",
        "# acabaria captando o texto junto.\r\n",
        "regex_html = re.compile(r\"<.*?>\")\r\n",
        "# Antes de remover as tags html é interessante remover o código visto que através das tags \r\n",
        "# ele é facilmente identificado.\r\n",
        "# Não podemos deixar a regex apenas com o .* pois as quebras de linha fariam a regex parar, então precisamos colocar\r\n",
        "# que identifique qualquer caractere ou quebra de linha (\\n) entre o inicio e o fim do código.\r\n",
        "regex_cod = re.compile(r\"<code>(.|(\\n))*?</code>\")"
      ],
      "execution_count": 10,
      "outputs": []
    },
    {
      "cell_type": "code",
      "metadata": {
        "id": "TgYwUahYUK3w"
      },
      "source": [
        "def substitui(regex, textos, substituto):\r\n",
        "    if type(textos) == str:\r\n",
        "        return regex.sub(substituto, textos)\r\n",
        "    else:\r\n",
        "        return [regex.sub(substituto, texto) for texto in textos]"
      ],
      "execution_count": 11,
      "outputs": []
    },
    {
      "cell_type": "markdown",
      "metadata": {
        "id": "xfdLmK-4aJp-"
      },
      "source": [
        "Tirando o código e as tags html's das questões em português."
      ]
    },
    {
      "cell_type": "code",
      "metadata": {
        "colab": {
          "base_uri": "https://localhost:8080/"
        },
        "id": "UKy1EgeXVvSq",
        "outputId": "3a49dad3-b589-45ae-9256-fad9b85b5d67"
      },
      "source": [
        "questao_1_sp_sem_code = substitui(regex_cod, questao_1_sp, \"CODE\")\r\n",
        "print(questao_1_sp_sem_code)"
      ],
      "execution_count": 12,
      "outputs": [
        {
          "output_type": "stream",
          "text": [
            "<p>Las sentencias dinámicas son sentencias SQL que se crean como cadenas de texto (strings) y en las que se insertan/concatenan valores obtenidos de alguna fuente (normalmente proveniente del usuario), lo que puede hacer que sean vulnerables a inyección SQL si no se sanean las entradas, como por ejemplo:</p>\n",
            "\n",
            "<pre>CODE</pre>\n",
            "\n",
            "<p>Eso es un ejemplo de una vulnerabilidad grave en la seguridad de una aplicación (web o no) porque si el usuario introdujese un valor como CODE nos encontraríamos con que la sentencia ejecutada sería:</p>\n",
            "\n",
            "<pre>CODE</pre>\n",
            "\n",
            "<p>Y se eliminaría la tabla Usuarios con todos los datos contenidos en ella. </p>\n",
            "\n",
            "<p><strong>¿Cómo puedo evitar que la inyección SQL ocurra en PHP?</strong></p>\n",
            "\n"
          ],
          "name": "stdout"
        }
      ]
    },
    {
      "cell_type": "code",
      "metadata": {
        "id": "xBFF_lMyXjDW"
      },
      "source": [
        "questoes_pt_sem_codigo = substitui(regex_cod, dados_pt.Questão, \"CODE\")"
      ],
      "execution_count": 13,
      "outputs": []
    },
    {
      "cell_type": "code",
      "metadata": {
        "id": "CBUVuO8QYVM8"
      },
      "source": [
        "questoes_pt_sem_cod_tag = remover(regex_html, questoes_pt_sem_codigo)"
      ],
      "execution_count": 14,
      "outputs": []
    },
    {
      "cell_type": "code",
      "metadata": {
        "id": "QOIpIgSxZ1RJ"
      },
      "source": [
        "dados_pt[\"sem_code_tag\"] = questoes_pt_sem_cod_tag"
      ],
      "execution_count": 15,
      "outputs": []
    },
    {
      "cell_type": "code",
      "metadata": {
        "colab": {
          "base_uri": "https://localhost:8080/",
          "height": 493
        },
        "id": "0O32gDSCaE_G",
        "outputId": "3a798426-4815-436d-82a1-dcfc6cc03e2d"
      },
      "source": [
        "dados_pt.head()"
      ],
      "execution_count": 16,
      "outputs": [
        {
          "output_type": "execute_result",
          "data": {
            "text/html": [
              "<div>\n",
              "<style scoped>\n",
              "    .dataframe tbody tr th:only-of-type {\n",
              "        vertical-align: middle;\n",
              "    }\n",
              "\n",
              "    .dataframe tbody tr th {\n",
              "        vertical-align: top;\n",
              "    }\n",
              "\n",
              "    .dataframe thead th {\n",
              "        text-align: right;\n",
              "    }\n",
              "</style>\n",
              "<table border=\"1\" class=\"dataframe\">\n",
              "  <thead>\n",
              "    <tr style=\"text-align: right;\">\n",
              "      <th></th>\n",
              "      <th>Id</th>\n",
              "      <th>Título</th>\n",
              "      <th>Questão</th>\n",
              "      <th>Tags</th>\n",
              "      <th>Pontuação</th>\n",
              "      <th>Visualizações</th>\n",
              "      <th>sem_code_tag</th>\n",
              "    </tr>\n",
              "  </thead>\n",
              "  <tbody>\n",
              "    <tr>\n",
              "      <th>0</th>\n",
              "      <td>2402</td>\n",
              "      <td>Como fazer hash de senhas de forma segura?</td>\n",
              "      <td>&lt;p&gt;Se eu fizer o &lt;em&gt;&lt;a href=\"http://pt.wikipe...</td>\n",
              "      <td>&lt;hash&gt;&lt;segurança&gt;&lt;senhas&gt;&lt;criptografia&gt;</td>\n",
              "      <td>350</td>\n",
              "      <td>22367</td>\n",
              "      <td>Se eu fizer o hash de senhas antes de armazená...</td>\n",
              "    </tr>\n",
              "    <tr>\n",
              "      <th>1</th>\n",
              "      <td>6441</td>\n",
              "      <td>Qual é a diferença entre INNER JOIN e OUTER JOIN?</td>\n",
              "      <td>&lt;p&gt;Qual é a diferença entre &lt;code&gt;INNER JOIN&lt;/...</td>\n",
              "      <td>&lt;sql&gt;&lt;join&gt;</td>\n",
              "      <td>276</td>\n",
              "      <td>176953</td>\n",
              "      <td>Qual é a diferença entre CODE e CODE? Podem me...</td>\n",
              "    </tr>\n",
              "    <tr>\n",
              "      <th>2</th>\n",
              "      <td>579</td>\n",
              "      <td>Por que não devemos usar funções do tipo mysql_*?</td>\n",
              "      <td>&lt;p&gt;Uma dúvida muito comum é por que devemos pa...</td>\n",
              "      <td>&lt;php&gt;&lt;mysql&gt;</td>\n",
              "      <td>226</td>\n",
              "      <td>9761</td>\n",
              "      <td>Uma dúvida muito comum é por que devemos parar...</td>\n",
              "    </tr>\n",
              "    <tr>\n",
              "      <th>3</th>\n",
              "      <td>2539</td>\n",
              "      <td>As mensagens de erro devem se desculpar?</td>\n",
              "      <td>&lt;p&gt;É comum encontrar uma mensagem de erro que ...</td>\n",
              "      <td>&lt;aplicação-web&gt;&lt;gui&gt;&lt;console&gt;&lt;ux&gt;</td>\n",
              "      <td>214</td>\n",
              "      <td>5075</td>\n",
              "      <td>É comum encontrar uma mensagem de erro que diz...</td>\n",
              "    </tr>\n",
              "    <tr>\n",
              "      <th>4</th>\n",
              "      <td>17501</td>\n",
              "      <td>Qual é a diferença de API, biblioteca e Framew...</td>\n",
              "      <td>&lt;p&gt;Me parecem termos muito próximos e eventual...</td>\n",
              "      <td>&lt;api&gt;&lt;framework&gt;&lt;terminologia&gt;&lt;biblioteca&gt;</td>\n",
              "      <td>193</td>\n",
              "      <td>54191</td>\n",
              "      <td>Me parecem termos muito próximos e eventualmen...</td>\n",
              "    </tr>\n",
              "  </tbody>\n",
              "</table>\n",
              "</div>"
            ],
            "text/plain": [
              "      Id  ...                                       sem_code_tag\n",
              "0   2402  ...  Se eu fizer o hash de senhas antes de armazená...\n",
              "1   6441  ...  Qual é a diferença entre CODE e CODE? Podem me...\n",
              "2    579  ...  Uma dúvida muito comum é por que devemos parar...\n",
              "3   2539  ...  É comum encontrar uma mensagem de erro que diz...\n",
              "4  17501  ...  Me parecem termos muito próximos e eventualmen...\n",
              "\n",
              "[5 rows x 7 columns]"
            ]
          },
          "metadata": {
            "tags": []
          },
          "execution_count": 16
        }
      ]
    },
    {
      "cell_type": "markdown",
      "metadata": {
        "id": "GLikMPMLaYRN"
      },
      "source": [
        "Tirando das outras questões."
      ]
    },
    {
      "cell_type": "code",
      "metadata": {
        "id": "tykzHsOsaG4I"
      },
      "source": [
        "questoes_ing_sem_codigo = substitui(regex_cod, dados_ing.Questão, \"CODE\")\r\n",
        "questoes_ing_sem_cod_tag = remover(regex_html, questoes_ing_sem_codigo)\r\n",
        "dados_pt[\"sem_code_tag\"] = questoes_ing_sem_cod_tag\r\n",
        "\r\n",
        "questoes_sp_sem_codigo = substitui(regex_cod, dados_sp.Questão, \"CODE\")\r\n",
        "questoes_sp_sem_cod_tag = remover(regex_html, questoes_sp_sem_codigo)\r\n",
        "dados_pt[\"sem_code_tag\"] = questoes_sp_sem_cod_tag"
      ],
      "execution_count": 17,
      "outputs": []
    },
    {
      "cell_type": "markdown",
      "metadata": {
        "id": "u3UwuwpUbLsN"
      },
      "source": [
        "Remover a pontuação, pois para o projeto de identificação da linguagem deveria levar-se em conta apenas as palavras."
      ]
    },
    {
      "cell_type": "code",
      "metadata": {
        "id": "ix2l19U0azBF",
        "colab": {
          "base_uri": "https://localhost:8080/"
        },
        "outputId": "b9b550fd-07ea-4a69-ad56-bd57c7b9647e"
      },
      "source": [
        "# Entre [] e com ^ tira tudo menos aquilo que for escrito, no caso do \\w tira tudo menos os caracteres alfa-numéricos\r\n",
        "# é preciso que coloque o \\s para que não seja removido junto com isso os espaços e quebras de linha.\r\n",
        "regex_pontos = re.compile(r\"[^\\w\\s]\")\r\n",
        "questoes_pt_sem_codtagpont = remover(regex_pontos, questoes_pt_sem_cod_tag)\r\n",
        "print(questoes_pt_sem_codtagpont[0])"
      ],
      "execution_count": 18,
      "outputs": [
        {
          "output_type": "stream",
          "text": [
            "Se eu fizer o hash de senhas antes de armazenálas em meu banco de dados é suficiente para evitar que elas sejam recuperadas por alguém\n",
            "\n",
            "Estou falando apenas da recuperação diretamente do banco de dados e não qualquer outro tipo de ataque como força bruta na página de login da aplicação keylogger no cliente e criptoanálise rubberhose Qualquer forma de hash não vai impedir esses ataques\n",
            "\n",
            "Tenho preocupação em dificultar ou até impossibilitar a obtenção das senhas originais caso o banco de dados seja comprometido Como dar maior garantia de segurança neste aspecto\n",
            "\n",
            "Quais preocupações adicionais evitariam o acesso às senhas Existem formas melhores de fazer esse hash\n",
            "\n"
          ],
          "name": "stdout"
        }
      ]
    },
    {
      "cell_type": "code",
      "metadata": {
        "colab": {
          "base_uri": "https://localhost:8080/"
        },
        "id": "ubiV-W3nepqO",
        "outputId": "eaf76d90-590f-411b-a27c-0fd5262581c6"
      },
      "source": [
        "# Como não possui diferença entre carcteres minusculos e maiusculos é interessante transformarmos tudo em minusculo\r\n",
        "# para que no processador compreenda que são palavras iguais.\r\n",
        "def minusculo (textos):\r\n",
        "  if type(textos) == str:\r\n",
        "    return textos.lower()\r\n",
        "  else:\r\n",
        "    return [texto.lower() for texto in textos]\r\n",
        "questoes_pt_codtagpontmin = minusculo(questoes_pt_sem_codtagpont)\r\n",
        "print(questoes_pt_codtagpontmin[0])"
      ],
      "execution_count": 19,
      "outputs": [
        {
          "output_type": "stream",
          "text": [
            "se eu fizer o hash de senhas antes de armazenálas em meu banco de dados é suficiente para evitar que elas sejam recuperadas por alguém\n",
            "\n",
            "estou falando apenas da recuperação diretamente do banco de dados e não qualquer outro tipo de ataque como força bruta na página de login da aplicação keylogger no cliente e criptoanálise rubberhose qualquer forma de hash não vai impedir esses ataques\n",
            "\n",
            "tenho preocupação em dificultar ou até impossibilitar a obtenção das senhas originais caso o banco de dados seja comprometido como dar maior garantia de segurança neste aspecto\n",
            "\n",
            "quais preocupações adicionais evitariam o acesso às senhas existem formas melhores de fazer esse hash\n",
            "\n"
          ],
          "name": "stdout"
        }
      ]
    },
    {
      "cell_type": "code",
      "metadata": {
        "colab": {
          "base_uri": "https://localhost:8080/"
        },
        "id": "H_Qnrf9hhCc5",
        "outputId": "0b2fd10b-fec9-46c6-d4d7-94cadee28bdb"
      },
      "source": [
        "# Para remover os digitos usamos \\d e o + para significar que pode ser presente 1 ou mais vezes\r\n",
        "regex_digitos = re.compile(r\"\\d+\")\r\n",
        "questoes_pt_codtagpontmindig = remover(regex_digitos, questoes_pt_codtagpontmin)\r\n",
        "print(questoes_pt_codtagpontmindig[0])"
      ],
      "execution_count": 20,
      "outputs": [
        {
          "output_type": "stream",
          "text": [
            "se eu fizer o hash de senhas antes de armazenálas em meu banco de dados é suficiente para evitar que elas sejam recuperadas por alguém\n",
            "\n",
            "estou falando apenas da recuperação diretamente do banco de dados e não qualquer outro tipo de ataque como força bruta na página de login da aplicação keylogger no cliente e criptoanálise rubberhose qualquer forma de hash não vai impedir esses ataques\n",
            "\n",
            "tenho preocupação em dificultar ou até impossibilitar a obtenção das senhas originais caso o banco de dados seja comprometido como dar maior garantia de segurança neste aspecto\n",
            "\n",
            "quais preocupações adicionais evitariam o acesso às senhas existem formas melhores de fazer esse hash\n",
            "\n"
          ],
          "name": "stdout"
        }
      ]
    },
    {
      "cell_type": "code",
      "metadata": {
        "id": "9Ypuzw6YiSHo",
        "colab": {
          "base_uri": "https://localhost:8080/"
        },
        "outputId": "efa817e3-fee7-405a-b003-d1aa20677f46"
      },
      "source": [
        "# Com as regex aplicadas podem ocorrer casos de espaços duplos, então é interessante fazer uma regex para esses casos\r\n",
        "regex_espaco = re.compile(r\" +\")\r\n",
        "exemplo = (\"Texto    de      teste\")\r\n",
        "exemplo_1 = substitui(regex_espaco, exemplo, \" \")\r\n",
        "print(exemplo_1)"
      ],
      "execution_count": 21,
      "outputs": [
        {
          "output_type": "stream",
          "text": [
            "Texto de teste\n"
          ],
          "name": "stdout"
        }
      ]
    },
    {
      "cell_type": "code",
      "metadata": {
        "colab": {
          "base_uri": "https://localhost:8080/"
        },
        "id": "vMMKujSmCecq",
        "outputId": "02fd1d2a-c5c9-4090-e292-ef5ef9b38c1e"
      },
      "source": [
        "# Aplicando nas questões pt\r\n",
        "questoes_pt_atualizada = substitui(regex_espaco, questoes_pt_codtagpontmindig, \" \")\r\n",
        "print(questoes_pt_atualizada[0])"
      ],
      "execution_count": 22,
      "outputs": [
        {
          "output_type": "stream",
          "text": [
            "se eu fizer o hash de senhas antes de armazenálas em meu banco de dados é suficiente para evitar que elas sejam recuperadas por alguém\n",
            "\n",
            "estou falando apenas da recuperação diretamente do banco de dados e não qualquer outro tipo de ataque como força bruta na página de login da aplicação keylogger no cliente e criptoanálise rubberhose qualquer forma de hash não vai impedir esses ataques\n",
            "\n",
            "tenho preocupação em dificultar ou até impossibilitar a obtenção das senhas originais caso o banco de dados seja comprometido como dar maior garantia de segurança neste aspecto\n",
            "\n",
            "quais preocupações adicionais evitariam o acesso às senhas existem formas melhores de fazer esse hash\n",
            "\n"
          ],
          "name": "stdout"
        }
      ]
    },
    {
      "cell_type": "code",
      "metadata": {
        "colab": {
          "base_uri": "https://localhost:8080/"
        },
        "id": "JYKW_j1_CzhS",
        "outputId": "468ef623-127d-49dd-e8ca-6ba68631697a"
      },
      "source": [
        "# A mesma lógica dos espaços pode ser usada para o tratamento quebras de linha, visto que não são necessárias.\r\n",
        "regex_quebralinha = re.compile(r\"(\\n)+\")\r\n",
        "questoes_pt_atualizada = substitui(regex_quebralinha, questoes_pt_atualizada, \" \")\r\n",
        "print(questoes_pt_atualizada[0])"
      ],
      "execution_count": 23,
      "outputs": [
        {
          "output_type": "stream",
          "text": [
            "se eu fizer o hash de senhas antes de armazenálas em meu banco de dados é suficiente para evitar que elas sejam recuperadas por alguém estou falando apenas da recuperação diretamente do banco de dados e não qualquer outro tipo de ataque como força bruta na página de login da aplicação keylogger no cliente e criptoanálise rubberhose qualquer forma de hash não vai impedir esses ataques tenho preocupação em dificultar ou até impossibilitar a obtenção das senhas originais caso o banco de dados seja comprometido como dar maior garantia de segurança neste aspecto quais preocupações adicionais evitariam o acesso às senhas existem formas melhores de fazer esse hash \n"
          ],
          "name": "stdout"
        }
      ]
    },
    {
      "cell_type": "code",
      "metadata": {
        "id": "AS2VxBzfMJjn"
      },
      "source": [
        "# Tendo feito todas as limpezas possíveis vou fazer o mesmo para as outras linguas e colocar uma nova coluna no dataset\r\n",
        "dados_pt[\"questao_tratada\"] = questoes_pt_atualizada\r\n",
        "\r\n",
        "questoes_ing_atualizada = questoes_ing_sem_cod_tag\r\n",
        "questoes_ing_atualizada = remover(regex_pontos, questoes_ing_atualizada)\r\n",
        "questoes_ing_atualizada = minusculo(questoes_ing_atualizada)\r\n",
        "questoes_ing_atualizada = remover(regex_digitos, questoes_ing_atualizada)\r\n",
        "questoes_ing_atualizada = substitui(regex_quebralinha, questoes_ing_atualizada, \" \")\r\n",
        "questoes_ing_atualizada = substitui(regex_espaco, questoes_ing_atualizada, \" \")\r\n",
        "dados_ing[\"questao_tratada\"] = questoes_ing_atualizada\r\n",
        "\r\n",
        "questoes_sp_atualizada = questoes_sp_sem_cod_tag\r\n",
        "questoes_sp_atualizada = remover(regex_pontos, questoes_sp_atualizada)\r\n",
        "questoes_sp_atualizada = minusculo(questoes_sp_atualizada)\r\n",
        "questoes_sp_atualizada = remover(regex_digitos, questoes_sp_atualizada)\r\n",
        "questoes_sp_atualizada = substitui(regex_quebralinha, questoes_sp_atualizada, \" \")\r\n",
        "questoes_sp_atualizada = substitui(regex_espaco, questoes_sp_atualizada, \" \")\r\n",
        "dados_sp[\"questao_tratada\"] = questoes_sp_atualizada"
      ],
      "execution_count": 24,
      "outputs": []
    },
    {
      "cell_type": "code",
      "metadata": {
        "colab": {
          "base_uri": "https://localhost:8080/",
          "height": 374
        },
        "id": "YInluzW3TnNb",
        "outputId": "099189f7-5ec6-4da2-d015-a84100c4bb21"
      },
      "source": [
        "dados_ing.head()"
      ],
      "execution_count": 25,
      "outputs": [
        {
          "output_type": "execute_result",
          "data": {
            "text/html": [
              "<div>\n",
              "<style scoped>\n",
              "    .dataframe tbody tr th:only-of-type {\n",
              "        vertical-align: middle;\n",
              "    }\n",
              "\n",
              "    .dataframe tbody tr th {\n",
              "        vertical-align: top;\n",
              "    }\n",
              "\n",
              "    .dataframe thead th {\n",
              "        text-align: right;\n",
              "    }\n",
              "</style>\n",
              "<table border=\"1\" class=\"dataframe\">\n",
              "  <thead>\n",
              "    <tr style=\"text-align: right;\">\n",
              "      <th></th>\n",
              "      <th>Id</th>\n",
              "      <th>Título</th>\n",
              "      <th>Questão</th>\n",
              "      <th>Tags</th>\n",
              "      <th>Pontuação</th>\n",
              "      <th>Visualizações</th>\n",
              "      <th>questao_tratada</th>\n",
              "    </tr>\n",
              "  </thead>\n",
              "  <tbody>\n",
              "    <tr>\n",
              "      <th>0</th>\n",
              "      <td>11227809</td>\n",
              "      <td>Why is it faster to process a sorted array tha...</td>\n",
              "      <td>&lt;p&gt;Here is a piece of C++ code that seems very...</td>\n",
              "      <td>&lt;java&gt;&lt;c++&gt;&lt;performance&gt;&lt;optimization&gt;&lt;branch-...</td>\n",
              "      <td>23057</td>\n",
              "      <td>1358574</td>\n",
              "      <td>here is a piece of c code that seems very pecu...</td>\n",
              "    </tr>\n",
              "    <tr>\n",
              "      <th>1</th>\n",
              "      <td>927358</td>\n",
              "      <td>How do I undo the most recent local commits in...</td>\n",
              "      <td>&lt;p&gt;I accidentally committed the wrong files to...</td>\n",
              "      <td>&lt;git&gt;&lt;version-control&gt;&lt;git-commit&gt;&lt;undo&gt;</td>\n",
              "      <td>19640</td>\n",
              "      <td>7906137</td>\n",
              "      <td>i accidentally committed the wrong files to gi...</td>\n",
              "    </tr>\n",
              "    <tr>\n",
              "      <th>2</th>\n",
              "      <td>2003505</td>\n",
              "      <td>How do I delete a Git branch locally and remot...</td>\n",
              "      <td>&lt;p&gt;I want to delete a branch both locally and ...</td>\n",
              "      <td>&lt;git&gt;&lt;git-branch&gt;&lt;git-remote&gt;</td>\n",
              "      <td>15249</td>\n",
              "      <td>6940906</td>\n",
              "      <td>i want to delete a branch both locally and rem...</td>\n",
              "    </tr>\n",
              "    <tr>\n",
              "      <th>3</th>\n",
              "      <td>292357</td>\n",
              "      <td>What is the difference between 'git pull' and ...</td>\n",
              "      <td>&lt;blockquote&gt;\\n  &lt;p&gt;&lt;strong&gt;Moderator Note:&lt;/st...</td>\n",
              "      <td>&lt;git&gt;&lt;git-pull&gt;&lt;git-fetch&gt;</td>\n",
              "      <td>11008</td>\n",
              "      <td>2543052</td>\n",
              "      <td>moderator note given that this question has a...</td>\n",
              "    </tr>\n",
              "    <tr>\n",
              "      <th>4</th>\n",
              "      <td>477816</td>\n",
              "      <td>What is the correct JSON content type?</td>\n",
              "      <td>&lt;p&gt;I've been messing around with &lt;a href=\"http...</td>\n",
              "      <td>&lt;json&gt;&lt;http-headers&gt;&lt;content-type&gt;</td>\n",
              "      <td>9701</td>\n",
              "      <td>2478940</td>\n",
              "      <td>ive been messing around with json for some tim...</td>\n",
              "    </tr>\n",
              "  </tbody>\n",
              "</table>\n",
              "</div>"
            ],
            "text/plain": [
              "         Id  ...                                    questao_tratada\n",
              "0  11227809  ...  here is a piece of c code that seems very pecu...\n",
              "1    927358  ...  i accidentally committed the wrong files to gi...\n",
              "2   2003505  ...  i want to delete a branch both locally and rem...\n",
              "3    292357  ...   moderator note given that this question has a...\n",
              "4    477816  ...  ive been messing around with json for some tim...\n",
              "\n",
              "[5 rows x 7 columns]"
            ]
          },
          "metadata": {
            "tags": []
          },
          "execution_count": 25
        }
      ]
    },
    {
      "cell_type": "markdown",
      "metadata": {
        "id": "crR3B7h7ve4T"
      },
      "source": [
        "#Modelo de Linguagem"
      ]
    },
    {
      "cell_type": "markdown",
      "metadata": {
        "id": "2qveVM7ov77W"
      },
      "source": [
        "O modelo de linguagem é uma tentativa de prever o que virá a seguir baseado numa informação prévia, ou seja baseado naquilo que já foi visto ele calculará a probabilidade e \"advinhará\" o próximo evento que irá acontecer. E para o nosso projeto, baseado no resultado apresentado ele irá identificar em qual idioma o texto foi escrito."
      ]
    },
    {
      "cell_type": "code",
      "metadata": {
        "id": "gezFBS3xTqnS"
      },
      "source": [
        "from sklearn.model_selection import train_test_split\r\n",
        "from nltk.tokenize import WhitespaceTokenizer\r\n",
        "from nltk.lm.preprocessing import padded_everygram_pipeline\r\n",
        "from nltk.lm import MLE\r\n",
        "from nltk.util import bigrams\r\n",
        "from nltk.lm.preprocessing import pad_both_ends\r\n",
        "from nltk.lm import Laplace"
      ],
      "execution_count": 52,
      "outputs": []
    },
    {
      "cell_type": "code",
      "metadata": {
        "id": "Erq9Mce7HFEr"
      },
      "source": [
        "# Para depois identificarmos de qual idioma é cada questão, vamos criar uma coluna indicando isso.\r\n",
        "dados_pt[\"idioma\"] = \"port\"\r\n",
        "dados_ing[\"idioma\"] = \"ing\"\r\n",
        "dados_sp[\"idioma\"] = \"esp\""
      ],
      "execution_count": 27,
      "outputs": []
    },
    {
      "cell_type": "code",
      "metadata": {
        "id": "y3dVwCcrLO3K"
      },
      "source": [
        "# Separando em treino e teste\r\n",
        "port_treino, port_teste = train_test_split(dados_pt.questao_tratada, test_size = 0.2, random_state = 123)\r\n",
        "ing_treino, ing_teste = train_test_split(dados_ing.questao_tratada, test_size = 0.2, random_state = 123)\r\n",
        "sp_treino, sp_teste = train_test_split(dados_sp.questao_tratada, test_size = 0.2, random_state = 123)"
      ],
      "execution_count": 28,
      "outputs": []
    },
    {
      "cell_type": "code",
      "metadata": {
        "id": "MY7gOY8_MC5A"
      },
      "source": [
        "# Para começar o modelo faremos uma variavel com todas as questões separadas apenas por espaço para a analise por parte\r\n",
        "# do modelo. E posteriormente tokenizar para cada palavra ser um item de uma lista.\r\n",
        "\r\n",
        "todas_as_questoes_port = ' '.join(port_treino)\r\n",
        "todas_as_palavras_port = WhitespaceTokenizer().tokenize(todas_as_questoes_port)"
      ],
      "execution_count": 29,
      "outputs": []
    },
    {
      "cell_type": "code",
      "metadata": {
        "id": "ISjSqxZtNQ6z"
      },
      "source": [
        "# Iremos separar as palavras em bigramas e colocar um fakechar no inicio e fim de cada palavra para evitar que dentro\r\n",
        "# do bigrama a letra inicial e final da palavra fique apenas em um bigrama e não em dois como as outras criando um viés\r\n",
        "# no modelo\r\n",
        "\r\n",
        "port_treino_bigram, vocab_port = padded_everygram_pipeline(2, todas_as_palavras_port)"
      ],
      "execution_count": 30,
      "outputs": []
    },
    {
      "cell_type": "code",
      "metadata": {
        "id": "nh1RHO5sP60n"
      },
      "source": [
        "# Criando o modelo e treinando\r\n",
        "model_port = MLE(2)\r\n",
        "model_port.fit(port_treino_bigram, vocab_port)"
      ],
      "execution_count": 31,
      "outputs": []
    },
    {
      "cell_type": "markdown",
      "metadata": {
        "id": "N_tLA4YkNH-L"
      },
      "source": [
        "##Treinamento do modelo"
      ]
    },
    {
      "cell_type": "code",
      "metadata": {
        "id": "cbjUQckgSFQA"
      },
      "source": [
        "def treinar_modelo_mle(lista_textos):\r\n",
        "  frases_juntas = ' '.join(lista_textos)\r\n",
        "  palavras_juntas = WhitespaceTokenizer().tokenize(frases_juntas)\r\n",
        "  texto_bigram, vocab_texto = padded_everygram_pipeline(2, palavras_juntas)\r\n",
        "  model = MLE(2)\r\n",
        "  model.fit(texto_bigram, vocab_texto)\r\n",
        "  return model"
      ],
      "execution_count": 33,
      "outputs": []
    },
    {
      "cell_type": "code",
      "metadata": {
        "id": "1ul6cv24O4u2"
      },
      "source": [
        "model_port = treinar_modelo_mle(port_treino)\r\n",
        "model_ing = treinar_modelo_mle(ing_treino)\r\n",
        "model_sp = treinar_modelo_mle(sp_treino)"
      ],
      "execution_count": 34,
      "outputs": []
    },
    {
      "cell_type": "markdown",
      "metadata": {
        "id": "0uj0vGfoPZWS"
      },
      "source": [
        "##Construindo função para calcular a perplexidade de uma frase"
      ]
    },
    {
      "cell_type": "markdown",
      "metadata": {
        "id": "v5Y2Q89-Te2b"
      },
      "source": [
        "Perplexidade é o nome da métrica capaz de medir a proximidade que os bigramas de uma palavra tem em relação aos bigramas usados para treinar o modelo, no caso, quanto menor a perplexidade mais semelhante com o treinado."
      ]
    },
    {
      "cell_type": "code",
      "metadata": {
        "id": "38ihtMedPMNZ"
      },
      "source": [
        "def calcula_perplexidade(model, texto):\r\n",
        "  perplexidade = 0\r\n",
        "  palavras = WhitespaceTokenizer().tokenize(texto)\r\n",
        "  palavras_fakechar = [list(pad_both_ends(palavra, n=2)) for palavra in palavras]\r\n",
        "  palavras_bigrams = [list(bigrams(palavra)) for palavra in palavras_fakechar]\r\n",
        "\r\n",
        "  for palavra in palavras_bigrams:\r\n",
        "    perplexidade += model.perplexity(palavra)\r\n",
        "  \r\n",
        "  return perplexidade"
      ],
      "execution_count": 49,
      "outputs": []
    },
    {
      "cell_type": "code",
      "metadata": {
        "colab": {
          "base_uri": "https://localhost:8080/"
        },
        "id": "vAzBMD58QeDu",
        "outputId": "385bb35a-a1cf-496d-967b-5acf890ed53d"
      },
      "source": [
        "print(calcula_perplexidade(model_ing, \"good morning\"))\r\n",
        "print(calcula_perplexidade(model_sp, \"good morning\"))\r\n",
        "print(calcula_perplexidade(model_port, \"good morning\"))"
      ],
      "execution_count": 50,
      "outputs": [
        {
          "output_type": "stream",
          "text": [
            "30.1620889594439\n",
            "54.55542265319791\n",
            "69.20759508807609\n"
          ],
          "name": "stdout"
        }
      ]
    },
    {
      "cell_type": "markdown",
      "metadata": {
        "id": "-x9Au_ulSZD7"
      },
      "source": [
        "Conforme podemos observar, atraves das perplexidades calculadas com nossos modelos, que a menor perplexidade foi a do modelo ing, logo chegamos a conclusão que a frase \"good morning\" pertence a lingua inglesa."
      ]
    },
    {
      "cell_type": "code",
      "metadata": {
        "colab": {
          "base_uri": "https://localhost:8080/"
        },
        "id": "rLc6b5XmRQXB",
        "outputId": "705d1b35-74ec-43fe-ada5-ce8d4f0e6259"
      },
      "source": [
        "# Testeando para uma questão da nossa base de dados\r\n",
        "print(calcula_perplexidade(model_ing, port_teste.iloc[0]))\r\n",
        "print(calcula_perplexidade(model_sp, port_teste.iloc[0]))\r\n",
        "print(calcula_perplexidade(model_port, port_teste.iloc[0]))"
      ],
      "execution_count": 51,
      "outputs": [
        {
          "output_type": "stream",
          "text": [
            "inf\n",
            "inf\n",
            "2006.9786364086417\n"
          ],
          "name": "stdout"
        }
      ]
    },
    {
      "cell_type": "markdown",
      "metadata": {
        "id": "DoY6KvzdT60T"
      },
      "source": [
        "Podemos notar que nos modelos em espanhol e inglês a perplexidade deu infinito, isso se dá porque o calculo da perplexidade é o inverso da probabilidadem ou seja como alguma palavra ou bigrama da frase não foi localizado nenhuma vez nos modelos de outra lingua a perplexidade ficou como 1/0 que levou o total a infinito."
      ]
    },
    {
      "cell_type": "markdown",
      "metadata": {
        "id": "2GF0YMgTZMQb"
      },
      "source": [
        "##Implementação Laplace"
      ]
    },
    {
      "cell_type": "markdown",
      "metadata": {
        "id": "op-q1UDAY3tt"
      },
      "source": [
        "Tecnica de Laplace: é um modelo que serve para impedir que a probabilidade seja zeroe assim impede que a perplexidade seja infinita."
      ]
    },
    {
      "cell_type": "code",
      "metadata": {
        "id": "K5uY-bmMTzxf"
      },
      "source": [
        "def treinar_modelo_Laplace(lista_textos):\r\n",
        "  frases_juntas = ' '.join(lista_textos)\r\n",
        "  palavras_juntas = WhitespaceTokenizer().tokenize(frases_juntas)\r\n",
        "  texto_bigram, vocab_texto = padded_everygram_pipeline(2, palavras_juntas)\r\n",
        "  model = Laplace(2)\r\n",
        "  model.fit(texto_bigram, vocab_texto)\r\n",
        "  return model"
      ],
      "execution_count": 53,
      "outputs": []
    },
    {
      "cell_type": "code",
      "metadata": {
        "colab": {
          "base_uri": "https://localhost:8080/"
        },
        "id": "UqYtOXEIeHbF",
        "outputId": "0d9bad5a-7ae2-425a-caf2-71e56f305ae8"
      },
      "source": [
        "# Treinar novos modelos com o Laplave e realizar o mesmo teste com a questão em português\r\n",
        "model_port2 = treinar_modelo_Laplace(port_treino)\r\n",
        "model_ing2 = treinar_modelo_Laplace(ing_treino)\r\n",
        "model_sp2 = treinar_modelo_Laplace(sp_treino)\r\n",
        "\r\n",
        "print(calcula_perplexidade(model_ing2, port_teste.iloc[0]))\r\n",
        "print(calcula_perplexidade(model_sp2, port_teste.iloc[0]))\r\n",
        "print(calcula_perplexidade(model_port2, port_teste.iloc[0]))"
      ],
      "execution_count": 55,
      "outputs": [
        {
          "output_type": "stream",
          "text": [
            "5876.837588345698\n",
            "3488.5698949157722\n",
            "2009.1937946178912\n"
          ],
          "name": "stdout"
        }
      ]
    },
    {
      "cell_type": "markdown",
      "metadata": {
        "id": "927g83Dme94D"
      },
      "source": [
        "##Aplicação do modelo nos dados de teste."
      ]
    },
    {
      "cell_type": "code",
      "metadata": {
        "id": "XL4DCVyRef8E"
      },
      "source": [
        "def atribui_idioma(lista_textos):\r\n",
        "  idioma = []\r\n",
        "  for texto in lista_textos:\r\n",
        "    ingles = calcula_perplexidade(model_ing2, texto)\r\n",
        "    espanhol = calcula_perplexidade(model_sp2, texto)\r\n",
        "    portugues = calcula_perplexidade(model_port2, texto)\r\n",
        "    if ingles >= portugues <= espanhol:\r\n",
        "      idioma.append(\"portugues\")\r\n",
        "    elif portugues >= ingles <= espanhol:\r\n",
        "      idioma.append(\"ingles\")\r\n",
        "    else: \r\n",
        "      idioma.append(\"espanhol\")\r\n",
        "  return idioma"
      ],
      "execution_count": 56,
      "outputs": []
    },
    {
      "cell_type": "code",
      "metadata": {
        "colab": {
          "base_uri": "https://localhost:8080/"
        },
        "id": "fCFd9OwLgiom",
        "outputId": "767b0cb5-bd75-477b-e92c-bfc119c4e115"
      },
      "source": [
        "resultados_port = atribui_idioma(port_teste)\r\n",
        "print(resultados_port.count(\"portugues\"))"
      ],
      "execution_count": 60,
      "outputs": [
        {
          "output_type": "stream",
          "text": [
            "100\n"
          ],
          "name": "stdout"
        }
      ]
    },
    {
      "cell_type": "markdown",
      "metadata": {
        "id": "2j8LPr_0huAz"
      },
      "source": [
        "Tivemos uma acurácia de 100% na identificação do idioma das questões em português."
      ]
    },
    {
      "cell_type": "code",
      "metadata": {
        "colab": {
          "base_uri": "https://localhost:8080/"
        },
        "id": "pNDPtw7GgoWV",
        "outputId": "9e3bc4d7-4023-4eb4-9ddf-1c4fe87d727e"
      },
      "source": [
        "resultados_ing = atribui_idioma(ing_teste)\r\n",
        "print(resultados_ing.count(\"ingles\"))\r\n",
        "\r\n",
        "print(\"***************\")\r\n",
        "\r\n",
        "resultados_sp = atribui_idioma(sp_teste)\r\n",
        "print(resultados_sp.count(\"espanhol\"))\r\n",
        "print(resultados_sp.count(\"portugues\"))\r\n",
        "print(resultados_sp.count(\"ingles\"))"
      ],
      "execution_count": 62,
      "outputs": [
        {
          "output_type": "stream",
          "text": [
            "100\n",
            "***************\n",
            "97\n",
            "1\n",
            "2\n"
          ],
          "name": "stdout"
        }
      ]
    },
    {
      "cell_type": "markdown",
      "metadata": {
        "id": "gfehFVZziYs7"
      },
      "source": [
        "Para as questões em inglês tivemos 100% de acerto também, e em espanhol tivemos 97% de acerto com 1 questão identificada equivocadamente como português e 2 para o inglês"
      ]
    },
    {
      "cell_type": "code",
      "metadata": {
        "id": "gIWrqxEPiEKE"
      },
      "source": [
        ""
      ],
      "execution_count": null,
      "outputs": []
    }
  ]
}